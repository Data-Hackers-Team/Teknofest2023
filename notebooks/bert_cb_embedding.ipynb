{
  "nbformat": 4,
  "nbformat_minor": 0,
  "metadata": {
    "colab": {
      "provenance": [],
      "machine_shape": "hm"
    },
    "kernelspec": {
      "name": "python3",
      "display_name": "Python 3"
    },
    "language_info": {
      "name": "python"
    },
    "accelerator": "GPU",
    "gpuClass": "premium"
  },
  "cells": [
    {
      "cell_type": "code",
      "execution_count": 74,
      "metadata": {
        "colab": {
          "base_uri": "https://localhost:8080/"
        },
        "id": "hkD_d_15QSsX",
        "outputId": "ecc427c0-c12a-40c9-a4c1-c8b9319efb24"
      },
      "outputs": [
        {
          "output_type": "stream",
          "name": "stdout",
          "text": [
            "Drive already mounted at /content/drive; to attempt to forcibly remount, call drive.mount(\"/content/drive\", force_remount=True).\n"
          ]
        }
      ],
      "source": [
        "from google.colab import drive\n",
        "drive.mount('/content/drive')\n",
        "import pandas as pd\n",
        "df = pd.read_csv(\"/content/drive/MyDrive/Colab Notebooks/teknofest_train_final.csv\", sep=\"|\")\n",
        "df = df.drop(df.loc[df.text.apply(lambda x: len(x) == 1)].index)\n",
        "df.loc[(df.is_offensive == 1) & (df.target == \"OTHER\"), \"is_offensive\"] = 0"
      ]
    },
    {
      "cell_type": "code",
      "source": [
        "from sklearn.model_selection import StratifiedKFold"
      ],
      "metadata": {
        "id": "wZ90m351QtCk"
      },
      "execution_count": 75,
      "outputs": []
    },
    {
      "cell_type": "code",
      "source": [
        "df[\"labels\"] = df[\"is_offensive\"].astype(str)+\"__\"+df[\"target\"]\n",
        "df.drop([\"is_offensive\", \"id\",\"target\"], axis=1, inplace=True)"
      ],
      "metadata": {
        "id": "qrWzY1VYQxvd"
      },
      "execution_count": 76,
      "outputs": []
    },
    {
      "cell_type": "code",
      "source": [
        "df.labels=df.labels.map({'1__INSULT':1, '1__RACIST':2, '1__SEXIST':3, '1__PROFANITY':4, '0__OTHER':5})"
      ],
      "metadata": {
        "id": "dkYMc9LCRAUx"
      },
      "execution_count": 77,
      "outputs": []
    },
    {
      "cell_type": "code",
      "source": [
        "FOLDS=5\n",
        "skf = StratifiedKFold(n_splits=FOLDS, shuffle=True, random_state=42)"
      ],
      "metadata": {
        "id": "rZdw117iQo76"
      },
      "execution_count": 78,
      "outputs": []
    },
    {
      "cell_type": "code",
      "source": [
        "from IPython.display import clear_output\n",
        "\n",
        "!pip install transformers\n",
        "!pip install wordcloud\n",
        "\n",
        "clear_output()"
      ],
      "metadata": {
        "id": "qeyCT569Rc8m"
      },
      "execution_count": 79,
      "outputs": []
    },
    {
      "cell_type": "code",
      "source": [
        "from transformers import AutoModel,AutoTokenizer\n",
        "import torch\n",
        "import torch.nn.functional as F"
      ],
      "metadata": {
        "id": "ZnZsabx3RXMK"
      },
      "execution_count": 80,
      "outputs": []
    },
    {
      "cell_type": "code",
      "source": [
        "MODEL_NM = \"dbmdz/bert-base-turkish-cased\"\n",
        "MAX_LEN  = 500\n",
        "DEVICE=\"cuda\"\n",
        "BATCH_SIZE = 128\n",
        "model = AutoModel.from_pretrained(MODEL_NM )\n",
        "tokenizer = AutoTokenizer.from_pretrained(MODEL_NM )"
      ],
      "metadata": {
        "colab": {
          "base_uri": "https://localhost:8080/"
        },
        "id": "Uw0k3wc_RZfH",
        "outputId": "8e65e502-f99b-4f93-ac1a-7bac9c5c958e"
      },
      "execution_count": 81,
      "outputs": [
        {
          "output_type": "stream",
          "name": "stderr",
          "text": [
            "Some weights of the model checkpoint at dbmdz/bert-base-turkish-cased were not used when initializing BertModel: ['cls.predictions.decoder.weight', 'cls.predictions.transform.dense.weight', 'cls.seq_relationship.weight', 'cls.predictions.transform.LayerNorm.weight', 'cls.predictions.transform.LayerNorm.bias', 'cls.predictions.transform.dense.bias', 'cls.seq_relationship.bias', 'cls.predictions.bias', 'cls.predictions.decoder.bias']\n",
            "- This IS expected if you are initializing BertModel from the checkpoint of a model trained on another task or with another architecture (e.g. initializing a BertForSequenceClassification model from a BertForPreTraining model).\n",
            "- This IS NOT expected if you are initializing BertModel from the checkpoint of a model that you expect to be exactly identical (initializing a BertForSequenceClassification model from a BertForSequenceClassification model).\n"
          ]
        }
      ]
    },
    {
      "cell_type": "code",
      "source": [
        "from tqdm import tqdm\n",
        "\n",
        "def mean_pooling(model_output, attention_mask):\n",
        "    token_embeddings = model_output.last_hidden_state.detach().cpu()\n",
        "    input_mask_expanded = (\n",
        "        attention_mask.unsqueeze(-1).expand(token_embeddings.size()).float()\n",
        "    )\n",
        "    return torch.sum(token_embeddings * input_mask_expanded, 1) / torch.clamp(\n",
        "        input_mask_expanded.sum(1), min=1e-9\n",
        "    )"
      ],
      "metadata": {
        "id": "8rg40g3tSOYy"
      },
      "execution_count": 82,
      "outputs": []
    },
    {
      "cell_type": "code",
      "source": [
        "dftr = df.iloc[:10000]\n",
        "dfte = df.iloc[10000:]"
      ],
      "metadata": {
        "id": "kihS71XCSmS4"
      },
      "execution_count": 83,
      "outputs": []
    },
    {
      "cell_type": "code",
      "source": [
        "class EmbedDataset(torch.utils.data.Dataset):\n",
        "    def __init__(self,df):\n",
        "        self.df = df.reset_index(drop=True)\n",
        "    def __len__(self):\n",
        "        return len(self.df)\n",
        "    def __getitem__(self,idx):\n",
        "        text = self.df.loc[idx,\"text\"]\n",
        "        tokens = tokenizer(\n",
        "                text,\n",
        "                None,\n",
        "                add_special_tokens=True,\n",
        "                padding='max_length',\n",
        "                truncation=True,\n",
        "                max_length=MAX_LEN,\n",
        "                return_tensors=\"pt\"\n",
        "                )\n",
        "        tokens = {k:v.squeeze(0) for k,v in tokens.items()}\n",
        "        return tokens\n",
        "# ds = EmbedDataset(dftr.head())\n",
        "# ds[0]\n",
        "ds_tr = EmbedDataset(dftr)\n",
        "embed_dataloader_tr = torch.utils.data.DataLoader(ds_tr,\\\n",
        "                        batch_size=BATCH_SIZE,\\\n",
        "                        shuffle=False)\n",
        "ds_te = EmbedDataset(dfte)\n",
        "embed_dataloader_te = torch.utils.data.DataLoader(ds_te,\\\n",
        "                        batch_size=BATCH_SIZE,\\\n",
        "                        shuffle=False)"
      ],
      "metadata": {
        "id": "q2oQ8oQHSVU1"
      },
      "execution_count": 84,
      "outputs": []
    },
    {
      "cell_type": "code",
      "source": [
        "import numpy as np"
      ],
      "metadata": {
        "id": "BjN7L4gSTD1Q"
      },
      "execution_count": 85,
      "outputs": []
    },
    {
      "cell_type": "code",
      "source": [
        "model = model.to(DEVICE)\n",
        "model.eval()\n",
        "all_train_text_feats = []\n",
        "for batch in tqdm(embed_dataloader_tr,total=len(embed_dataloader_tr)):\n",
        "    input_ids = batch[\"input_ids\"].to(DEVICE)\n",
        "    attention_mask = batch[\"attention_mask\"].to(DEVICE)\n",
        "    with torch.no_grad():\n",
        "        model_output = model(input_ids=input_ids, attention_mask=attention_mask)\n",
        "    sentence_embeddings = mean_pooling(model_output, attention_mask.detach().cpu())\n",
        "    # Normalize the embeddings\n",
        "    sentence_embeddings = F.normalize(sentence_embeddings, p=2, dim=1)\n",
        "    sentence_embeddings =  sentence_embeddings.squeeze(0).detach().cpu().numpy()\n",
        "    all_train_text_feats.extend(sentence_embeddings)\n",
        "all_train_text_feats = np.array(all_train_text_feats)\n",
        "all_train_text_feats.shape"
      ],
      "metadata": {
        "colab": {
          "base_uri": "https://localhost:8080/"
        },
        "id": "k11eL6qzSkWt",
        "outputId": "9b82649b-6e7c-4826-f423-5f2c9d6f9ec9"
      },
      "execution_count": 86,
      "outputs": [
        {
          "output_type": "stream",
          "name": "stderr",
          "text": [
            "100%|██████████| 79/79 [01:16<00:00,  1.03it/s]\n"
          ]
        },
        {
          "output_type": "execute_result",
          "data": {
            "text/plain": [
              "(10000, 768)"
            ]
          },
          "metadata": {},
          "execution_count": 86
        }
      ]
    },
    {
      "cell_type": "code",
      "source": [
        "te_text_feats = []\n",
        "for batch in tqdm(embed_dataloader_te,total=len(embed_dataloader_te)):\n",
        "    input_ids = batch[\"input_ids\"].to(DEVICE)\n",
        "    attention_mask = batch[\"attention_mask\"].to(DEVICE)\n",
        "    with torch.no_grad():\n",
        "        model_output = model(input_ids=input_ids,attention_mask=attention_mask)\n",
        "    sentence_embeddings = mean_pooling(model_output, attention_mask.detach().cpu())\n",
        "    # Normalize the embeddings\n",
        "    sentence_embeddings = F.normalize(sentence_embeddings, p=2, dim=1)\n",
        "    sentence_embeddings =  sentence_embeddings.squeeze(0).detach().cpu().numpy()\n",
        "    te_text_feats.extend(sentence_embeddings)\n",
        "te_text_feats = np.array(te_text_feats)\n",
        "te_text_feats.shape"
      ],
      "metadata": {
        "colab": {
          "base_uri": "https://localhost:8080/"
        },
        "id": "gzXRqGkqboA2",
        "outputId": "3531b5ef-4e97-40eb-8f0a-25a711a6fe47"
      },
      "execution_count": 87,
      "outputs": [
        {
          "output_type": "stream",
          "name": "stderr",
          "text": [
            "100%|██████████| 20/20 [00:18<00:00,  1.06it/s]\n"
          ]
        },
        {
          "output_type": "execute_result",
          "data": {
            "text/plain": [
              "(2467, 768)"
            ]
          },
          "metadata": {},
          "execution_count": 87
        }
      ]
    },
    {
      "cell_type": "code",
      "source": [
        "!pip install catboost\n",
        "\n",
        "clear_output()"
      ],
      "metadata": {
        "id": "rc_xLTVDcEEq"
      },
      "execution_count": 88,
      "outputs": []
    },
    {
      "cell_type": "code",
      "source": [
        "from sklearn.feature_extraction.text import TfidfVectorizer\n",
        "from sklearn.preprocessing import OneHotEncoder,LabelEncoder\n",
        "\n",
        "from sklearn.metrics import roc_auc_score\n",
        "\n",
        "from catboost import CatBoostClassifier\n"
      ],
      "metadata": {
        "id": "C03zao-fSzif"
      },
      "execution_count": 89,
      "outputs": []
    },
    {
      "cell_type": "code",
      "source": [
        "from sklearn.metrics import f1_score"
      ],
      "metadata": {
        "id": "UgMDVlYScQtj"
      },
      "execution_count": 90,
      "outputs": []
    },
    {
      "cell_type": "code",
      "source": [
        "preds = []\n",
        "scores = []\n",
        "def comp_score(y_true,y_pred):\n",
        "    scores = []\n",
        "\n",
        "    scores.append(f1_score(y_true,y_pred,  average=\"macro\"))\n",
        "    return np.mean(scores)\n",
        "\n"
      ],
      "metadata": {
        "id": "FwFa_1wecDBG"
      },
      "execution_count": 91,
      "outputs": []
    },
    {
      "cell_type": "code",
      "source": [
        "for i,(train_index, val_index) in enumerate(skf.split(dftr,dftr[\"labels\"])):\n",
        "    dftr.loc[val_index,'FOLD'] = i"
      ],
      "metadata": {
        "colab": {
          "base_uri": "https://localhost:8080/"
        },
        "id": "W8GMC9z2c3zw",
        "outputId": "e26f6c50-1ffb-4b26-ad44-1eef69f4dd5f"
      },
      "execution_count": 92,
      "outputs": [
        {
          "output_type": "stream",
          "name": "stderr",
          "text": [
            "<ipython-input-92-e451b7a93b5c>:2: SettingWithCopyWarning: \n",
            "A value is trying to be set on a copy of a slice from a DataFrame.\n",
            "Try using .loc[row_indexer,col_indexer] = value instead\n",
            "\n",
            "See the caveats in the documentation: https://pandas.pydata.org/pandas-docs/stable/user_guide/indexing.html#returning-a-view-versus-a-copy\n",
            "  dftr.loc[val_index,'FOLD'] = i\n"
          ]
        }
      ]
    },
    {
      "cell_type": "code",
      "source": [
        "\n",
        "for fold in tqdm(range(FOLDS),total=FOLDS):\n",
        "    dftr_ = dftr[dftr[\"FOLD\"]!=fold]\n",
        "    dfev_ = dftr[dftr[\"FOLD\"]==fold]\n",
        "    \n",
        "    tr_text_feats = all_train_text_feats[list(dftr_.index),:]\n",
        "    ev_text_feats = all_train_text_feats[list(dfev_.index),:]\n",
        "    \n",
        "    clf = CatBoostClassifier(verbose=50, n_estimators=1000)\n",
        "    clf.fit(tr_text_feats, dftr_[\"labels\"].values)\n",
        "    ev_preds = clf.predict(ev_text_feats)\n",
        "    score = comp_score(dfev_[\"labels\"].values,ev_preds)\n",
        "    scores.append(score)\n",
        "#     break\n",
        "    print(\"Fold : {} EV score: {}\".format(fold,score))\n",
        "    preds.append(clf.predict(te_text_feats))\n",
        "print(np.mean(scores))"
      ],
      "metadata": {
        "colab": {
          "base_uri": "https://localhost:8080/"
        },
        "id": "HZNbZR54cfND",
        "outputId": "aa48fd06-117f-4536-8b7e-b2f9bc757713"
      },
      "execution_count": 93,
      "outputs": [
        {
          "output_type": "stream",
          "name": "stderr",
          "text": [
            "\r  0%|          | 0/5 [00:00<?, ?it/s]"
          ]
        },
        {
          "output_type": "stream",
          "name": "stdout",
          "text": [
            "Learning rate set to 0.087979\n",
            "0:\tlearn: 1.5371296\ttotal: 200ms\tremaining: 3m 19s\n",
            "50:\tlearn: 0.6405569\ttotal: 7.99s\tremaining: 2m 28s\n",
            "100:\tlearn: 0.4432160\ttotal: 16.3s\tremaining: 2m 25s\n",
            "150:\tlearn: 0.3439092\ttotal: 24.6s\tremaining: 2m 18s\n",
            "200:\tlearn: 0.2877209\ttotal: 33s\tremaining: 2m 11s\n",
            "250:\tlearn: 0.2515121\ttotal: 40.2s\tremaining: 2m\n",
            "300:\tlearn: 0.2273342\ttotal: 47.5s\tremaining: 1m 50s\n",
            "350:\tlearn: 0.2070940\ttotal: 54.6s\tremaining: 1m 40s\n",
            "400:\tlearn: 0.1913347\ttotal: 1m 2s\tremaining: 1m 33s\n",
            "450:\tlearn: 0.1781241\ttotal: 1m 10s\tremaining: 1m 25s\n",
            "500:\tlearn: 0.1662732\ttotal: 1m 17s\tremaining: 1m 17s\n",
            "550:\tlearn: 0.1557439\ttotal: 1m 24s\tremaining: 1m 9s\n",
            "600:\tlearn: 0.1469947\ttotal: 1m 32s\tremaining: 1m 1s\n",
            "650:\tlearn: 0.1387122\ttotal: 1m 39s\tremaining: 53.1s\n",
            "700:\tlearn: 0.1311419\ttotal: 1m 46s\tremaining: 45.3s\n",
            "750:\tlearn: 0.1243203\ttotal: 1m 53s\tremaining: 37.6s\n",
            "800:\tlearn: 0.1179122\ttotal: 2m\tremaining: 29.9s\n",
            "850:\tlearn: 0.1118934\ttotal: 2m 7s\tremaining: 22.3s\n",
            "900:\tlearn: 0.1061195\ttotal: 2m 15s\tremaining: 14.8s\n",
            "950:\tlearn: 0.1008266\ttotal: 2m 22s\tremaining: 7.34s\n"
          ]
        },
        {
          "output_type": "stream",
          "name": "stderr",
          "text": [
            "\r 20%|██        | 1/5 [02:30<10:00, 150.04s/it]"
          ]
        },
        {
          "output_type": "stream",
          "name": "stdout",
          "text": [
            "999:\tlearn: 0.0964402\ttotal: 2m 29s\tremaining: 0us\n",
            "Fold : 0 EV score: 0.8788310893758038\n",
            "Learning rate set to 0.087979\n",
            "0:\tlearn: 1.5348746\ttotal: 195ms\tremaining: 3m 14s\n",
            "50:\tlearn: 0.6428295\ttotal: 8.13s\tremaining: 2m 31s\n",
            "100:\tlearn: 0.4474185\ttotal: 15.7s\tremaining: 2m 19s\n",
            "150:\tlearn: 0.3446912\ttotal: 23.4s\tremaining: 2m 11s\n",
            "200:\tlearn: 0.2884217\ttotal: 30.6s\tremaining: 2m 1s\n",
            "250:\tlearn: 0.2533573\ttotal: 38.1s\tremaining: 1m 53s\n",
            "300:\tlearn: 0.2289251\ttotal: 45.2s\tremaining: 1m 44s\n",
            "350:\tlearn: 0.2088733\ttotal: 52.5s\tremaining: 1m 37s\n",
            "400:\tlearn: 0.1918798\ttotal: 59.6s\tremaining: 1m 29s\n",
            "450:\tlearn: 0.1787359\ttotal: 1m 6s\tremaining: 1m 21s\n",
            "500:\tlearn: 0.1672718\ttotal: 1m 13s\tremaining: 1m 13s\n",
            "550:\tlearn: 0.1570542\ttotal: 1m 20s\tremaining: 1m 5s\n",
            "600:\tlearn: 0.1474334\ttotal: 1m 28s\tremaining: 58.6s\n",
            "650:\tlearn: 0.1392319\ttotal: 1m 35s\tremaining: 51s\n",
            "700:\tlearn: 0.1318737\ttotal: 1m 42s\tremaining: 43.7s\n",
            "750:\tlearn: 0.1253219\ttotal: 1m 49s\tremaining: 36.3s\n",
            "800:\tlearn: 0.1185975\ttotal: 1m 56s\tremaining: 29s\n",
            "850:\tlearn: 0.1127524\ttotal: 2m 3s\tremaining: 21.6s\n",
            "900:\tlearn: 0.1072807\ttotal: 2m 10s\tremaining: 14.4s\n",
            "950:\tlearn: 0.1020971\ttotal: 2m 17s\tremaining: 7.1s\n"
          ]
        },
        {
          "output_type": "stream",
          "name": "stderr",
          "text": [
            "\r 40%|████      | 2/5 [04:55<07:22, 147.47s/it]"
          ]
        },
        {
          "output_type": "stream",
          "name": "stdout",
          "text": [
            "999:\tlearn: 0.0977754\ttotal: 2m 25s\tremaining: 0us\n",
            "Fold : 1 EV score: 0.8830180501428326\n",
            "Learning rate set to 0.087979\n",
            "0:\tlearn: 1.5369131\ttotal: 218ms\tremaining: 3m 38s\n",
            "50:\tlearn: 0.6458848\ttotal: 8.03s\tremaining: 2m 29s\n",
            "100:\tlearn: 0.4480996\ttotal: 15.8s\tremaining: 2m 20s\n",
            "150:\tlearn: 0.3449178\ttotal: 23.9s\tremaining: 2m 14s\n",
            "200:\tlearn: 0.2929895\ttotal: 31.2s\tremaining: 2m 4s\n",
            "250:\tlearn: 0.2546988\ttotal: 38.6s\tremaining: 1m 55s\n",
            "300:\tlearn: 0.2292836\ttotal: 45.9s\tremaining: 1m 46s\n",
            "350:\tlearn: 0.2094275\ttotal: 53.6s\tremaining: 1m 39s\n",
            "400:\tlearn: 0.1939415\ttotal: 1m\tremaining: 1m 30s\n",
            "450:\tlearn: 0.1799204\ttotal: 1m 8s\tremaining: 1m 23s\n",
            "500:\tlearn: 0.1673378\ttotal: 1m 15s\tremaining: 1m 15s\n",
            "550:\tlearn: 0.1566969\ttotal: 1m 22s\tremaining: 1m 7s\n",
            "600:\tlearn: 0.1468333\ttotal: 1m 29s\tremaining: 59.5s\n",
            "650:\tlearn: 0.1393195\ttotal: 1m 36s\tremaining: 52s\n",
            "700:\tlearn: 0.1317232\ttotal: 1m 44s\tremaining: 44.5s\n",
            "750:\tlearn: 0.1248665\ttotal: 1m 51s\tremaining: 36.9s\n",
            "800:\tlearn: 0.1179499\ttotal: 1m 58s\tremaining: 29.5s\n",
            "850:\tlearn: 0.1120036\ttotal: 2m 5s\tremaining: 22s\n",
            "900:\tlearn: 0.1064080\ttotal: 2m 12s\tremaining: 14.6s\n",
            "950:\tlearn: 0.1013988\ttotal: 2m 19s\tremaining: 7.21s\n"
          ]
        },
        {
          "output_type": "stream",
          "name": "stderr",
          "text": [
            "\r 60%|██████    | 3/5 [07:23<04:55, 147.53s/it]"
          ]
        },
        {
          "output_type": "stream",
          "name": "stdout",
          "text": [
            "999:\tlearn: 0.0965572\ttotal: 2m 26s\tremaining: 0us\n",
            "Fold : 2 EV score: 0.8870832201131631\n",
            "Learning rate set to 0.087979\n",
            "0:\tlearn: 1.5382107\ttotal: 193ms\tremaining: 3m 13s\n",
            "50:\tlearn: 0.6311672\ttotal: 8.06s\tremaining: 2m 30s\n",
            "100:\tlearn: 0.4400602\ttotal: 16s\tremaining: 2m 22s\n",
            "150:\tlearn: 0.3383885\ttotal: 23.4s\tremaining: 2m 11s\n",
            "200:\tlearn: 0.2812949\ttotal: 31s\tremaining: 2m 3s\n",
            "250:\tlearn: 0.2464717\ttotal: 38.1s\tremaining: 1m 53s\n",
            "300:\tlearn: 0.2228739\ttotal: 45.5s\tremaining: 1m 45s\n",
            "350:\tlearn: 0.2035315\ttotal: 52.6s\tremaining: 1m 37s\n",
            "400:\tlearn: 0.1882127\ttotal: 59.8s\tremaining: 1m 29s\n",
            "450:\tlearn: 0.1741956\ttotal: 1m 6s\tremaining: 1m 21s\n",
            "500:\tlearn: 0.1622968\ttotal: 1m 14s\tremaining: 1m 13s\n",
            "550:\tlearn: 0.1526710\ttotal: 1m 21s\tremaining: 1m 6s\n",
            "600:\tlearn: 0.1435363\ttotal: 1m 28s\tremaining: 58.6s\n",
            "650:\tlearn: 0.1359100\ttotal: 1m 35s\tremaining: 51.2s\n",
            "700:\tlearn: 0.1281030\ttotal: 1m 42s\tremaining: 43.7s\n",
            "750:\tlearn: 0.1206336\ttotal: 1m 49s\tremaining: 36.4s\n",
            "800:\tlearn: 0.1137990\ttotal: 1m 56s\tremaining: 29s\n",
            "850:\tlearn: 0.1081945\ttotal: 2m 3s\tremaining: 21.7s\n",
            "900:\tlearn: 0.1029344\ttotal: 2m 11s\tremaining: 14.4s\n",
            "950:\tlearn: 0.0979253\ttotal: 2m 18s\tremaining: 7.12s\n"
          ]
        },
        {
          "output_type": "stream",
          "name": "stderr",
          "text": [
            "\r 80%|████████  | 4/5 [09:49<02:26, 146.82s/it]"
          ]
        },
        {
          "output_type": "stream",
          "name": "stdout",
          "text": [
            "999:\tlearn: 0.0930643\ttotal: 2m 25s\tremaining: 0us\n",
            "Fold : 3 EV score: 0.8804176779030687\n",
            "Learning rate set to 0.087979\n",
            "0:\tlearn: 1.5382219\ttotal: 197ms\tremaining: 3m 16s\n",
            "50:\tlearn: 0.6375495\ttotal: 8.55s\tremaining: 2m 39s\n",
            "100:\tlearn: 0.4423508\ttotal: 16.9s\tremaining: 2m 30s\n",
            "150:\tlearn: 0.3422550\ttotal: 25s\tremaining: 2m 20s\n",
            "200:\tlearn: 0.2886034\ttotal: 32.6s\tremaining: 2m 9s\n",
            "250:\tlearn: 0.2537803\ttotal: 39.8s\tremaining: 1m 58s\n",
            "300:\tlearn: 0.2298773\ttotal: 47.1s\tremaining: 1m 49s\n",
            "350:\tlearn: 0.2102518\ttotal: 54.2s\tremaining: 1m 40s\n",
            "400:\tlearn: 0.1933707\ttotal: 1m 1s\tremaining: 1m 31s\n",
            "450:\tlearn: 0.1789913\ttotal: 1m 8s\tremaining: 1m 23s\n",
            "500:\tlearn: 0.1663340\ttotal: 1m 15s\tremaining: 1m 15s\n",
            "550:\tlearn: 0.1555634\ttotal: 1m 22s\tremaining: 1m 7s\n",
            "600:\tlearn: 0.1462420\ttotal: 1m 30s\tremaining: 59.8s\n",
            "650:\tlearn: 0.1375832\ttotal: 1m 37s\tremaining: 52.1s\n",
            "700:\tlearn: 0.1302463\ttotal: 1m 44s\tremaining: 44.5s\n",
            "750:\tlearn: 0.1232009\ttotal: 1m 51s\tremaining: 37s\n",
            "800:\tlearn: 0.1163200\ttotal: 1m 58s\tremaining: 29.4s\n",
            "850:\tlearn: 0.1104596\ttotal: 2m 5s\tremaining: 22s\n",
            "900:\tlearn: 0.1050834\ttotal: 2m 12s\tremaining: 14.6s\n",
            "950:\tlearn: 0.1000804\ttotal: 2m 20s\tremaining: 7.21s\n"
          ]
        },
        {
          "output_type": "stream",
          "name": "stderr",
          "text": [
            "100%|██████████| 5/5 [12:16<00:00, 147.30s/it]"
          ]
        },
        {
          "output_type": "stream",
          "name": "stdout",
          "text": [
            "999:\tlearn: 0.0949667\ttotal: 2m 26s\tremaining: 0us\n",
            "Fold : 4 EV score: 0.8813340934908936\n",
            "0.8821368262051523\n"
          ]
        },
        {
          "output_type": "stream",
          "name": "stderr",
          "text": [
            "\n"
          ]
        }
      ]
    },
    {
      "cell_type": "code",
      "source": [
        "dfte[\"preds\"] = np.average(np.array(preds),axis=0,weights=[1/s for s in scores])"
      ],
      "metadata": {
        "colab": {
          "base_uri": "https://localhost:8080/"
        },
        "id": "PpG9GW8UeXPr",
        "outputId": "b378b6c0-62b9-43fe-a7e6-5591b2ec33dd"
      },
      "execution_count": 94,
      "outputs": [
        {
          "output_type": "stream",
          "name": "stderr",
          "text": [
            "<ipython-input-94-8b70d79c35ab>:1: SettingWithCopyWarning: \n",
            "A value is trying to be set on a copy of a slice from a DataFrame.\n",
            "Try using .loc[row_indexer,col_indexer] = value instead\n",
            "\n",
            "See the caveats in the documentation: https://pandas.pydata.org/pandas-docs/stable/user_guide/indexing.html#returning-a-view-versus-a-copy\n",
            "  dfte[\"preds\"] = np.average(np.array(preds),axis=0,weights=[1/s for s in scores])\n"
          ]
        }
      ]
    },
    {
      "cell_type": "code",
      "source": [
        "dfte[\"preds\"] = dfte[\"preds\"].apply(lambda x: round(x))"
      ],
      "metadata": {
        "colab": {
          "base_uri": "https://localhost:8080/"
        },
        "id": "PhsnwcRJeLvM",
        "outputId": "9affdfc8-398f-4e43-f2f1-bec96db2ff52"
      },
      "execution_count": 95,
      "outputs": [
        {
          "output_type": "stream",
          "name": "stderr",
          "text": [
            "<ipython-input-95-71c6bdfe35b2>:1: SettingWithCopyWarning: \n",
            "A value is trying to be set on a copy of a slice from a DataFrame.\n",
            "Try using .loc[row_indexer,col_indexer] = value instead\n",
            "\n",
            "See the caveats in the documentation: https://pandas.pydata.org/pandas-docs/stable/user_guide/indexing.html#returning-a-view-versus-a-copy\n",
            "  dfte[\"preds\"] = dfte[\"preds\"].apply(lambda x: round(x))\n"
          ]
        }
      ]
    },
    {
      "cell_type": "code",
      "source": [
        "f1_score(dfte[\"labels\"], dfte[\"preds\"], average=\"macro\")"
      ],
      "metadata": {
        "colab": {
          "base_uri": "https://localhost:8080/"
        },
        "id": "lkTOBFZeerSn",
        "outputId": "0d0c4571-3ddd-43d0-8d19-fa5afaae4bf8"
      },
      "execution_count": 96,
      "outputs": [
        {
          "output_type": "execute_result",
          "data": {
            "text/plain": [
              "0.8374135740371728"
            ]
          },
          "metadata": {},
          "execution_count": 96
        }
      ]
    },
    {
      "cell_type": "code",
      "source": [],
      "metadata": {
        "id": "NhFpMwATewPW"
      },
      "execution_count": 96,
      "outputs": []
    }
  ]
}