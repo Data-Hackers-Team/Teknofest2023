{
 "cells": [
  {
   "cell_type": "code",
   "execution_count": 1,
   "id": "4d626dca-b27e-4d81-aa8f-3beb4dbb37fd",
   "metadata": {},
   "outputs": [],
   "source": [
    "import numpy as np\n",
    "import pandas as pd\n",
    "\n",
    "%load_ext lab_black"
   ]
  },
  {
   "cell_type": "code",
   "execution_count": 2,
   "id": "fb9aaa41-8d69-4050-a23f-74630f3f89c8",
   "metadata": {},
   "outputs": [],
   "source": [
    "df = pd.read_csv(\n",
    "    \"/home/alios/Desktop/projects/teknofest/teknofest_train_final.csv\", sep=\"|\"\n",
    ")"
   ]
  },
  {
   "cell_type": "code",
   "execution_count": 3,
   "id": "fa7a3934-5306-46aa-92c3-abcb98461405",
   "metadata": {},
   "outputs": [
    {
     "data": {
      "text/html": [
       "<div>\n",
       "<style scoped>\n",
       "    .dataframe tbody tr th:only-of-type {\n",
       "        vertical-align: middle;\n",
       "    }\n",
       "\n",
       "    .dataframe tbody tr th {\n",
       "        vertical-align: top;\n",
       "    }\n",
       "\n",
       "    .dataframe thead th {\n",
       "        text-align: right;\n",
       "    }\n",
       "</style>\n",
       "<table border=\"1\" class=\"dataframe\">\n",
       "  <thead>\n",
       "    <tr style=\"text-align: right;\">\n",
       "      <th></th>\n",
       "      <th>id</th>\n",
       "      <th>text</th>\n",
       "      <th>is_offensive</th>\n",
       "      <th>target</th>\n",
       "    </tr>\n",
       "  </thead>\n",
       "  <tbody>\n",
       "    <tr>\n",
       "      <th>0</th>\n",
       "      <td>81c11060-a240-4d54-841b-9e2916039e85</td>\n",
       "      <td>çürük dişli</td>\n",
       "      <td>1</td>\n",
       "      <td>INSULT</td>\n",
       "    </tr>\n",
       "    <tr>\n",
       "      <th>1</th>\n",
       "      <td>be80ebbf-b322-4c3b-afa1-94932ea80731</td>\n",
       "      <td>Bu adamın islama ve müslümanlara verdiği zarar...</td>\n",
       "      <td>1</td>\n",
       "      <td>RACIST</td>\n",
       "    </tr>\n",
       "    <tr>\n",
       "      <th>2</th>\n",
       "      <td>f99e2513-83ed-4076-ac72-b9e2cff3f049</td>\n",
       "      <td>erkekler zora gelmez</td>\n",
       "      <td>1</td>\n",
       "      <td>SEXIST</td>\n",
       "    </tr>\n",
       "    <tr>\n",
       "      <th>3</th>\n",
       "      <td>83ed2b2e-b815-4f36-9fc4-80a9050cf2d0</td>\n",
       "      <td>Utanmazın götüne kazık sokmuşlar bu tıkırtı ne...</td>\n",
       "      <td>1</td>\n",
       "      <td>PROFANITY</td>\n",
       "    </tr>\n",
       "    <tr>\n",
       "      <th>4</th>\n",
       "      <td>d93e05f7-bfdd-4cdb-99d8-3048761b30ff</td>\n",
       "      <td>otomasyon&lt; sistemlerine= doğrudan bağlanabilir</td>\n",
       "      <td>0</td>\n",
       "      <td>OTHER</td>\n",
       "    </tr>\n",
       "    <tr>\n",
       "      <th>...</th>\n",
       "      <td>...</td>\n",
       "      <td>...</td>\n",
       "      <td>...</td>\n",
       "      <td>...</td>\n",
       "    </tr>\n",
       "    <tr>\n",
       "      <th>12612</th>\n",
       "      <td>71eedfa1-8fa6-425c-b982-258c3b29c003</td>\n",
       "      <td>uyuma taklidi yapan tehlikeli bir hayvanın göz...</td>\n",
       "      <td>0</td>\n",
       "      <td>OTHER</td>\n",
       "    </tr>\n",
       "    <tr>\n",
       "      <th>12613</th>\n",
       "      <td>b38eed16-6501-4563-8b33-ff2e634bb8e5</td>\n",
       "      <td>yolda at kavga eden üç oğlan çocuğu görür</td>\n",
       "      <td>0</td>\n",
       "      <td>OTHER</td>\n",
       "    </tr>\n",
       "    <tr>\n",
       "      <th>12614</th>\n",
       "      <td>c8a051a8-94ef-4b64-a48e-54d0fa4f8323</td>\n",
       "      <td>sizin köpeklerinizin burnu bile daha iyi koku ...</td>\n",
       "      <td>0</td>\n",
       "      <td>OTHER</td>\n",
       "    </tr>\n",
       "    <tr>\n",
       "      <th>12615</th>\n",
       "      <td>513a7e6d-4207-4a16-9b47-972f26e23cfe</td>\n",
       "      <td>hayalleri gerçek etmek için birisinin delilik ...</td>\n",
       "      <td>0</td>\n",
       "      <td>OTHER</td>\n",
       "    </tr>\n",
       "    <tr>\n",
       "      <th>12616</th>\n",
       "      <td>247834c9-ad37-4576-a094-69d70c69b124</td>\n",
       "      <td>deliklerden birini bulsan diğerini bulamıyorsu...</td>\n",
       "      <td>0</td>\n",
       "      <td>OTHER</td>\n",
       "    </tr>\n",
       "  </tbody>\n",
       "</table>\n",
       "<p>12617 rows × 4 columns</p>\n",
       "</div>"
      ],
      "text/plain": [
       "                                         id  \\\n",
       "0      81c11060-a240-4d54-841b-9e2916039e85   \n",
       "1      be80ebbf-b322-4c3b-afa1-94932ea80731   \n",
       "2      f99e2513-83ed-4076-ac72-b9e2cff3f049   \n",
       "3      83ed2b2e-b815-4f36-9fc4-80a9050cf2d0   \n",
       "4      d93e05f7-bfdd-4cdb-99d8-3048761b30ff   \n",
       "...                                     ...   \n",
       "12612  71eedfa1-8fa6-425c-b982-258c3b29c003   \n",
       "12613  b38eed16-6501-4563-8b33-ff2e634bb8e5   \n",
       "12614  c8a051a8-94ef-4b64-a48e-54d0fa4f8323   \n",
       "12615  513a7e6d-4207-4a16-9b47-972f26e23cfe   \n",
       "12616  247834c9-ad37-4576-a094-69d70c69b124   \n",
       "\n",
       "                                                    text  is_offensive  \\\n",
       "0                                            çürük dişli             1   \n",
       "1      Bu adamın islama ve müslümanlara verdiği zarar...             1   \n",
       "2                                   erkekler zora gelmez             1   \n",
       "3      Utanmazın götüne kazık sokmuşlar bu tıkırtı ne...             1   \n",
       "4         otomasyon< sistemlerine= doğrudan bağlanabilir             0   \n",
       "...                                                  ...           ...   \n",
       "12612  uyuma taklidi yapan tehlikeli bir hayvanın göz...             0   \n",
       "12613          yolda at kavga eden üç oğlan çocuğu görür             0   \n",
       "12614  sizin köpeklerinizin burnu bile daha iyi koku ...             0   \n",
       "12615  hayalleri gerçek etmek için birisinin delilik ...             0   \n",
       "12616  deliklerden birini bulsan diğerini bulamıyorsu...             0   \n",
       "\n",
       "          target  \n",
       "0         INSULT  \n",
       "1         RACIST  \n",
       "2         SEXIST  \n",
       "3      PROFANITY  \n",
       "4          OTHER  \n",
       "...          ...  \n",
       "12612      OTHER  \n",
       "12613      OTHER  \n",
       "12614      OTHER  \n",
       "12615      OTHER  \n",
       "12616      OTHER  \n",
       "\n",
       "[12617 rows x 4 columns]"
      ]
     },
     "execution_count": 3,
     "metadata": {},
     "output_type": "execute_result"
    }
   ],
   "source": [
    "df"
   ]
  },
  {
   "cell_type": "code",
   "execution_count": 4,
   "id": "18ebd9e6-49b6-4d03-9f07-c033c994ded1",
   "metadata": {},
   "outputs": [
    {
     "name": "stdout",
     "output_type": "stream",
     "text": [
      "<class 'pandas.core.frame.DataFrame'>\n",
      "RangeIndex: 12617 entries, 0 to 12616\n",
      "Data columns (total 4 columns):\n",
      " #   Column        Non-Null Count  Dtype \n",
      "---  ------        --------------  ----- \n",
      " 0   id            12617 non-null  object\n",
      " 1   text          12617 non-null  object\n",
      " 2   is_offensive  12617 non-null  int64 \n",
      " 3   target        12617 non-null  object\n",
      "dtypes: int64(1), object(3)\n",
      "memory usage: 394.4+ KB\n"
     ]
    }
   ],
   "source": [
    "df.info()"
   ]
  },
  {
   "cell_type": "code",
   "execution_count": 5,
   "id": "a76653bb-82e1-4dc2-a5a6-85d37c2e8f51",
   "metadata": {},
   "outputs": [
    {
     "data": {
      "text/plain": [
       "12617"
      ]
     },
     "execution_count": 5,
     "metadata": {},
     "output_type": "execute_result"
    }
   ],
   "source": [
    "len(df.id.unique())"
   ]
  },
  {
   "cell_type": "code",
   "execution_count": 6,
   "id": "93bc8dbf-f4ed-491d-89a9-b21de20cbb3c",
   "metadata": {},
   "outputs": [
    {
     "data": {
      "text/plain": [
       "1    9018\n",
       "0    3599\n",
       "Name: is_offensive, dtype: int64"
      ]
     },
     "execution_count": 6,
     "metadata": {},
     "output_type": "execute_result"
    }
   ],
   "source": [
    "df.is_offensive.value_counts()"
   ]
  },
  {
   "cell_type": "code",
   "execution_count": 7,
   "id": "5f2471f4-6ab3-4164-9f07-ed6c0684361f",
   "metadata": {},
   "outputs": [
    {
     "data": {
      "text/plain": [
       "OTHER        3616\n",
       "INSULT       2419\n",
       "PROFANITY    2398\n",
       "SEXIST       2112\n",
       "RACIST       2072\n",
       "Name: target, dtype: int64"
      ]
     },
     "execution_count": 7,
     "metadata": {},
     "output_type": "execute_result"
    }
   ],
   "source": [
    "df.target.value_counts()"
   ]
  },
  {
   "cell_type": "markdown",
   "id": "fae9c4c6-9144-4977-b72a-4b67a734e120",
   "metadata": {},
   "source": [
    "## Preprocessing"
   ]
  },
  {
   "cell_type": "markdown",
   "id": "0aed0780-2731-472a-90a0-b0013d8e8798",
   "metadata": {},
   "source": [
    "#### Punctuation"
   ]
  },
  {
   "cell_type": "code",
   "execution_count": 8,
   "id": "467f450f-d474-48ec-a192-2918389cd8b6",
   "metadata": {},
   "outputs": [],
   "source": [
    "import string"
   ]
  },
  {
   "cell_type": "code",
   "execution_count": 9,
   "id": "63800d56-18d2-413c-889d-576114d92fc3",
   "metadata": {},
   "outputs": [
    {
     "data": {
      "text/plain": [
       "'!\"#$%&\\'()*+,-./:;<=>?@[\\\\]^_`{|}~'"
      ]
     },
     "execution_count": 9,
     "metadata": {},
     "output_type": "execute_result"
    }
   ],
   "source": [
    "string.punctuation"
   ]
  },
  {
   "cell_type": "code",
   "execution_count": 10,
   "id": "32a2907e-c3c6-4212-9469-5cd95fb00f76",
   "metadata": {},
   "outputs": [],
   "source": [
    "def remove_punctuation(text):\n",
    "    punctuationfree = \"\".join([i for i in text if i not in string.punctuation])\n",
    "    return punctuationfree"
   ]
  },
  {
   "cell_type": "code",
   "execution_count": 11,
   "id": "a296279e-4392-4945-a5e5-d04e50719b74",
   "metadata": {},
   "outputs": [],
   "source": [
    "df.text = df.text.apply(lambda x: remove_punctuation(x))"
   ]
  },
  {
   "cell_type": "markdown",
   "id": "1d713ede-ecf9-447b-82d0-bdc0ab94e514",
   "metadata": {},
   "source": [
    "#### Lower"
   ]
  },
  {
   "cell_type": "code",
   "execution_count": 12,
   "id": "2598d1ab-b65f-4208-b719-fb1c5d3a2e89",
   "metadata": {},
   "outputs": [],
   "source": [
    "df.text = df.text.str.lower()"
   ]
  },
  {
   "cell_type": "markdown",
   "id": "0a2aa7f7-9b24-4323-a651-581d24ce3973",
   "metadata": {},
   "source": [
    "#### Tokenization"
   ]
  },
  {
   "cell_type": "code",
   "execution_count": 13,
   "id": "c4340b4c-5841-4e5e-9ea8-01dcc87eb6fb",
   "metadata": {},
   "outputs": [],
   "source": [
    "import re\n",
    "\n",
    "\n",
    "def tokenization(text):\n",
    "    tokens = re.split(r\"\\s+\", text)\n",
    "    return tokens"
   ]
  },
  {
   "cell_type": "code",
   "execution_count": 14,
   "id": "110a2b39-f0b9-42b8-a6df-77c17a317d36",
   "metadata": {},
   "outputs": [
    {
     "data": {
      "text/plain": [
       "0                                           [çürük, dişli]\n",
       "1        [bu, adamın, islama, ve, müslümanlara, verdiği...\n",
       "2                                 [erkekler, zora, gelmez]\n",
       "3        [utanmazın, götüne, kazık, sokmuşlar, bu, tıkı...\n",
       "4        [otomasyon, sistemlerine, doğrudan, bağlanabilir]\n",
       "                               ...                        \n",
       "12612    [uyuma, taklidi, yapan, tehlikeli, bir, hayvan...\n",
       "12613    [yolda, at, kavga, eden, üç, oğlan, çocuğu, gö...\n",
       "12614    [sizin, köpeklerinizin, burnu, bile, daha, iyi...\n",
       "12615    [hayalleri, gerçek, etmek, için, birisinin, de...\n",
       "12616    [deliklerden, birini, bulsan, diğerini, bulamı...\n",
       "Name: text, Length: 12617, dtype: object"
      ]
     },
     "execution_count": 14,
     "metadata": {},
     "output_type": "execute_result"
    }
   ],
   "source": [
    "df.text = df.text.apply(lambda x: tokenization(x))\n",
    "df.text"
   ]
  },
  {
   "cell_type": "markdown",
   "id": "ca1b1683-7b22-44ad-b809-46eb0aa56e61",
   "metadata": {
    "tags": []
   },
   "source": [
    "#### Stop Words"
   ]
  },
  {
   "cell_type": "code",
   "execution_count": 15,
   "id": "1a114daf-b41e-4975-a923-e0d36d175c44",
   "metadata": {},
   "outputs": [],
   "source": [
    "with open(\"/home/alios/Desktop/projects/teknofest/tr-stop-words.txt\", \"r\") as f:\n",
    "    words = f.readlines()\n",
    "f.close()"
   ]
  },
  {
   "cell_type": "code",
   "execution_count": 16,
   "id": "fe4f3219-a40f-48c6-b154-e53cb8df70d2",
   "metadata": {},
   "outputs": [],
   "source": [
    "stopwords = [word[:-1] for word in words]"
   ]
  },
  {
   "cell_type": "code",
   "execution_count": 17,
   "id": "cdfe2eaf-48c5-4686-9feb-e51067a12f7e",
   "metadata": {},
   "outputs": [],
   "source": [
    "def remove_stopwords(text):\n",
    "    output = [i for i in text if i not in stopwords]\n",
    "    return output"
   ]
  },
  {
   "cell_type": "code",
   "execution_count": 18,
   "id": "058b05fc-55fb-4815-aaa7-caff2479bd25",
   "metadata": {},
   "outputs": [
    {
     "data": {
      "text/plain": [
       "0                                           [çürük, dişli]\n",
       "1        [adamın, islama, müslümanlara, verdiği, zararı...\n",
       "2                                 [erkekler, zora, gelmez]\n",
       "3        [utanmazın, götüne, kazık, sokmuşlar, tıkırtı,...\n",
       "4        [otomasyon, sistemlerine, doğrudan, bağlanabilir]\n",
       "                               ...                        \n",
       "12612    [uyuma, taklidi, yapan, tehlikeli, hayvanın, g...\n",
       "12613             [yolda, at, kavga, oğlan, çocuğu, görür]\n",
       "12614    [köpeklerinizin, burnu, iyi, koku, alıyor, biz...\n",
       "12615    [hayalleri, gerçek, etmek, birisinin, delilik,...\n",
       "12616    [deliklerden, birini, bulsan, diğerini, bulamı...\n",
       "Name: text, Length: 12617, dtype: object"
      ]
     },
     "execution_count": 18,
     "metadata": {},
     "output_type": "execute_result"
    }
   ],
   "source": [
    "df.text = df.text.apply(lambda x: remove_stopwords(x))\n",
    "df.text"
   ]
  },
  {
   "cell_type": "code",
   "execution_count": 19,
   "id": "6c883bf4-9b4b-4a3d-93b9-5c840edc9dbd",
   "metadata": {},
   "outputs": [
    {
     "data": {
      "text/html": [
       "<div>\n",
       "<style scoped>\n",
       "    .dataframe tbody tr th:only-of-type {\n",
       "        vertical-align: middle;\n",
       "    }\n",
       "\n",
       "    .dataframe tbody tr th {\n",
       "        vertical-align: top;\n",
       "    }\n",
       "\n",
       "    .dataframe thead th {\n",
       "        text-align: right;\n",
       "    }\n",
       "</style>\n",
       "<table border=\"1\" class=\"dataframe\">\n",
       "  <thead>\n",
       "    <tr style=\"text-align: right;\">\n",
       "      <th></th>\n",
       "      <th>id</th>\n",
       "      <th>text</th>\n",
       "      <th>is_offensive</th>\n",
       "      <th>target</th>\n",
       "    </tr>\n",
       "  </thead>\n",
       "  <tbody>\n",
       "    <tr>\n",
       "      <th>0</th>\n",
       "      <td>81c11060-a240-4d54-841b-9e2916039e85</td>\n",
       "      <td>[çürük, dişli]</td>\n",
       "      <td>1</td>\n",
       "      <td>INSULT</td>\n",
       "    </tr>\n",
       "    <tr>\n",
       "      <th>1</th>\n",
       "      <td>be80ebbf-b322-4c3b-afa1-94932ea80731</td>\n",
       "      <td>[adamın, islama, müslümanlara, verdiği, zararı...</td>\n",
       "      <td>1</td>\n",
       "      <td>RACIST</td>\n",
       "    </tr>\n",
       "    <tr>\n",
       "      <th>2</th>\n",
       "      <td>f99e2513-83ed-4076-ac72-b9e2cff3f049</td>\n",
       "      <td>[erkekler, zora, gelmez]</td>\n",
       "      <td>1</td>\n",
       "      <td>SEXIST</td>\n",
       "    </tr>\n",
       "    <tr>\n",
       "      <th>3</th>\n",
       "      <td>83ed2b2e-b815-4f36-9fc4-80a9050cf2d0</td>\n",
       "      <td>[utanmazın, götüne, kazık, sokmuşlar, tıkırtı,...</td>\n",
       "      <td>1</td>\n",
       "      <td>PROFANITY</td>\n",
       "    </tr>\n",
       "    <tr>\n",
       "      <th>4</th>\n",
       "      <td>d93e05f7-bfdd-4cdb-99d8-3048761b30ff</td>\n",
       "      <td>[otomasyon, sistemlerine, doğrudan, bağlanabilir]</td>\n",
       "      <td>0</td>\n",
       "      <td>OTHER</td>\n",
       "    </tr>\n",
       "    <tr>\n",
       "      <th>...</th>\n",
       "      <td>...</td>\n",
       "      <td>...</td>\n",
       "      <td>...</td>\n",
       "      <td>...</td>\n",
       "    </tr>\n",
       "    <tr>\n",
       "      <th>12612</th>\n",
       "      <td>71eedfa1-8fa6-425c-b982-258c3b29c003</td>\n",
       "      <td>[uyuma, taklidi, yapan, tehlikeli, hayvanın, g...</td>\n",
       "      <td>0</td>\n",
       "      <td>OTHER</td>\n",
       "    </tr>\n",
       "    <tr>\n",
       "      <th>12613</th>\n",
       "      <td>b38eed16-6501-4563-8b33-ff2e634bb8e5</td>\n",
       "      <td>[yolda, at, kavga, oğlan, çocuğu, görür]</td>\n",
       "      <td>0</td>\n",
       "      <td>OTHER</td>\n",
       "    </tr>\n",
       "    <tr>\n",
       "      <th>12614</th>\n",
       "      <td>c8a051a8-94ef-4b64-a48e-54d0fa4f8323</td>\n",
       "      <td>[köpeklerinizin, burnu, iyi, koku, alıyor, biz...</td>\n",
       "      <td>0</td>\n",
       "      <td>OTHER</td>\n",
       "    </tr>\n",
       "    <tr>\n",
       "      <th>12615</th>\n",
       "      <td>513a7e6d-4207-4a16-9b47-972f26e23cfe</td>\n",
       "      <td>[hayalleri, gerçek, etmek, birisinin, delilik,...</td>\n",
       "      <td>0</td>\n",
       "      <td>OTHER</td>\n",
       "    </tr>\n",
       "    <tr>\n",
       "      <th>12616</th>\n",
       "      <td>247834c9-ad37-4576-a094-69d70c69b124</td>\n",
       "      <td>[deliklerden, birini, bulsan, diğerini, bulamı...</td>\n",
       "      <td>0</td>\n",
       "      <td>OTHER</td>\n",
       "    </tr>\n",
       "  </tbody>\n",
       "</table>\n",
       "<p>12617 rows × 4 columns</p>\n",
       "</div>"
      ],
      "text/plain": [
       "                                         id  \\\n",
       "0      81c11060-a240-4d54-841b-9e2916039e85   \n",
       "1      be80ebbf-b322-4c3b-afa1-94932ea80731   \n",
       "2      f99e2513-83ed-4076-ac72-b9e2cff3f049   \n",
       "3      83ed2b2e-b815-4f36-9fc4-80a9050cf2d0   \n",
       "4      d93e05f7-bfdd-4cdb-99d8-3048761b30ff   \n",
       "...                                     ...   \n",
       "12612  71eedfa1-8fa6-425c-b982-258c3b29c003   \n",
       "12613  b38eed16-6501-4563-8b33-ff2e634bb8e5   \n",
       "12614  c8a051a8-94ef-4b64-a48e-54d0fa4f8323   \n",
       "12615  513a7e6d-4207-4a16-9b47-972f26e23cfe   \n",
       "12616  247834c9-ad37-4576-a094-69d70c69b124   \n",
       "\n",
       "                                                    text  is_offensive  \\\n",
       "0                                         [çürük, dişli]             1   \n",
       "1      [adamın, islama, müslümanlara, verdiği, zararı...             1   \n",
       "2                               [erkekler, zora, gelmez]             1   \n",
       "3      [utanmazın, götüne, kazık, sokmuşlar, tıkırtı,...             1   \n",
       "4      [otomasyon, sistemlerine, doğrudan, bağlanabilir]             0   \n",
       "...                                                  ...           ...   \n",
       "12612  [uyuma, taklidi, yapan, tehlikeli, hayvanın, g...             0   \n",
       "12613           [yolda, at, kavga, oğlan, çocuğu, görür]             0   \n",
       "12614  [köpeklerinizin, burnu, iyi, koku, alıyor, biz...             0   \n",
       "12615  [hayalleri, gerçek, etmek, birisinin, delilik,...             0   \n",
       "12616  [deliklerden, birini, bulsan, diğerini, bulamı...             0   \n",
       "\n",
       "          target  \n",
       "0         INSULT  \n",
       "1         RACIST  \n",
       "2         SEXIST  \n",
       "3      PROFANITY  \n",
       "4          OTHER  \n",
       "...          ...  \n",
       "12612      OTHER  \n",
       "12613      OTHER  \n",
       "12614      OTHER  \n",
       "12615      OTHER  \n",
       "12616      OTHER  \n",
       "\n",
       "[12617 rows x 4 columns]"
      ]
     },
     "execution_count": 19,
     "metadata": {},
     "output_type": "execute_result"
    }
   ],
   "source": [
    "df"
   ]
  },
  {
   "cell_type": "markdown",
   "id": "f49dbccb-73d1-4f73-8853-d03dfee6ce65",
   "metadata": {},
   "source": [
    "## Feature Extraction"
   ]
  },
  {
   "cell_type": "code",
   "execution_count": 20,
   "id": "0d9803ed-720f-4e5c-9966-4ddf08d4b75a",
   "metadata": {},
   "outputs": [],
   "source": [
    "from sklearn.feature_extraction.text import CountVectorizer, TfidfVectorizer"
   ]
  },
  {
   "cell_type": "code",
   "execution_count": 21,
   "id": "cb17fc77-29bd-4fad-8525-dc3a7aedd7fe",
   "metadata": {},
   "outputs": [
    {
     "data": {
      "text/plain": [
       "0                                              çürük dişli\n",
       "1        adamın islama müslümanlara verdiği zararı gavu...\n",
       "2                                     erkekler zora gelmez\n",
       "3        utanmazın götüne kazık sokmuşlar tıkırtı nered...\n",
       "4             otomasyon sistemlerine doğrudan bağlanabilir\n",
       "                               ...                        \n",
       "12612    uyuma taklidi yapan tehlikeli hayvanın gözüne ...\n",
       "12613                    yolda at kavga oğlan çocuğu görür\n",
       "12614    köpeklerinizin burnu iyi koku alıyor bizimkile...\n",
       "12615    hayalleri gerçek etmek birisinin delilik yapma...\n",
       "12616    deliklerden birini bulsan diğerini bulamıyorsu...\n",
       "Name: text, Length: 12617, dtype: object"
      ]
     },
     "execution_count": 21,
     "metadata": {},
     "output_type": "execute_result"
    }
   ],
   "source": [
    "df.text = df.text.apply(lambda x: \" \".join(x))\n",
    "df.text"
   ]
  },
  {
   "cell_type": "code",
   "execution_count": 22,
   "id": "1d6be748-0326-41bc-b14c-09d237a5af6b",
   "metadata": {},
   "outputs": [],
   "source": [
    "# vectorizer = TfidfVectorizer()\n",
    "vectorizer = CountVectorizer(\n",
    "    analyzer=\"word\",\n",
    "    token_pattern=r\"\\w{1,}\",\n",
    "    ngram_range=(1, 3),\n",
    ")"
   ]
  },
  {
   "cell_type": "markdown",
   "id": "e0154213-c7f6-4e34-8076-9e0a3f3d7705",
   "metadata": {},
   "source": [
    "## Model"
   ]
  },
  {
   "cell_type": "code",
   "execution_count": 23,
   "id": "4ca3cd30-e08b-4677-a4c0-a5f3688e98aa",
   "metadata": {},
   "outputs": [],
   "source": [
    "from sklearn.model_selection import train_test_split\n",
    "\n",
    "from sklearn.linear_model import LogisticRegression\n",
    "\n",
    "from sklearn.metrics import accuracy_score, log_loss\n",
    "from sklearn.metrics import confusion_matrix, classification_report"
   ]
  },
  {
   "cell_type": "code",
   "execution_count": 24,
   "id": "d1836a69-bd23-4163-9ec6-daec0e898c4c",
   "metadata": {},
   "outputs": [],
   "source": [
    "X = df.drop([\"id\", \"target\"], axis=1)\n",
    "y = df.is_offensive\n",
    "\n",
    "X_train, X_test, y_train, y_test = train_test_split(\n",
    "    X.text.values, y, stratify=y, test_size=0.1, random_state=52, shuffle=True\n",
    ")"
   ]
  },
  {
   "cell_type": "code",
   "execution_count": 25,
   "id": "7d573fd4-e6f6-45e1-9a0d-4faaa27c6d55",
   "metadata": {},
   "outputs": [],
   "source": [
    "vectorizer.fit(list(X_train) + list(X_test))\n",
    "X_train = vectorizer.transform(X_train)\n",
    "X_test = vectorizer.transform(X_test)"
   ]
  },
  {
   "cell_type": "code",
   "execution_count": 26,
   "id": "8778bdb4-0969-4d1b-b685-1de90a2f7b11",
   "metadata": {},
   "outputs": [],
   "source": [
    "model = LogisticRegression().fit(X_train, y_train)"
   ]
  },
  {
   "cell_type": "code",
   "execution_count": 27,
   "id": "75553e7b-8189-4b91-8c83-1aa1d5453256",
   "metadata": {},
   "outputs": [],
   "source": [
    "y_pred = model.predict(X_test)"
   ]
  },
  {
   "cell_type": "code",
   "execution_count": 28,
   "id": "1fa623fc-ddca-4921-878c-0052ccd64f62",
   "metadata": {},
   "outputs": [
    {
     "data": {
      "text/plain": [
       "0.8232963549920761"
      ]
     },
     "execution_count": 28,
     "metadata": {},
     "output_type": "execute_result"
    }
   ],
   "source": [
    "accuracy_score(y_test, y_pred)"
   ]
  },
  {
   "cell_type": "code",
   "execution_count": 29,
   "id": "b20e8d6b-6748-436e-bfb9-4ef932abdde7",
   "metadata": {},
   "outputs": [
    {
     "data": {
      "text/plain": [
       "6.369044933259212"
      ]
     },
     "execution_count": 29,
     "metadata": {},
     "output_type": "execute_result"
    }
   ],
   "source": [
    "log_loss(y_test, y_pred)"
   ]
  },
  {
   "cell_type": "code",
   "execution_count": 30,
   "id": "10b7f8ee-ffaf-4bf8-b71f-7da1e5eab279",
   "metadata": {},
   "outputs": [
    {
     "name": "stdout",
     "output_type": "stream",
     "text": [
      "              precision    recall  f1-score   support\n",
      "\n",
      "           0       0.92      0.42      0.57       360\n",
      "           1       0.81      0.99      0.89       902\n",
      "\n",
      "    accuracy                           0.82      1262\n",
      "   macro avg       0.86      0.70      0.73      1262\n",
      "weighted avg       0.84      0.82      0.80      1262\n",
      "\n"
     ]
    }
   ],
   "source": [
    "print(classification_report(y_test, y_pred))"
   ]
  },
  {
   "cell_type": "code",
   "execution_count": 31,
   "id": "da3fb121-a11f-4ba2-9903-f76ae38995d6",
   "metadata": {},
   "outputs": [
    {
     "name": "stdout",
     "output_type": "stream",
     "text": [
      "[[150 210]\n",
      " [ 13 889]]\n"
     ]
    }
   ],
   "source": [
    "print(confusion_matrix(y_test, y_pred))"
   ]
  },
  {
   "cell_type": "code",
   "execution_count": null,
   "id": "79c6a647-4a32-4f3f-b3e5-368f68dfdbae",
   "metadata": {},
   "outputs": [],
   "source": []
  }
 ],
 "metadata": {
  "kernelspec": {
   "display_name": "Python 3 (ipykernel)",
   "language": "python",
   "name": "python3"
  },
  "language_info": {
   "codemirror_mode": {
    "name": "ipython",
    "version": 3
   },
   "file_extension": ".py",
   "mimetype": "text/x-python",
   "name": "python",
   "nbconvert_exporter": "python",
   "pygments_lexer": "ipython3",
   "version": "3.8.15"
  }
 },
 "nbformat": 4,
 "nbformat_minor": 5
}
